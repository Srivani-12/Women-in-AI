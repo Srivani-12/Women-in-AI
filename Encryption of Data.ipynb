{
  "nbformat": 4,
  "nbformat_minor": 0,
  "metadata": {
    "colab": {
      "provenance": []
    },
    "kernelspec": {
      "name": "python3",
      "display_name": "Python 3"
    },
    "language_info": {
      "name": "python"
    }
  },
  "cells": [
    {
      "cell_type": "markdown",
      "source": [
        "Encryption of message"
      ],
      "metadata": {
        "id": "vtkO1MwVisGT"
      }
    },
    {
      "cell_type": "code",
      "execution_count": 1,
      "metadata": {
        "colab": {
          "base_uri": "https://localhost:8080/"
        },
        "id": "sqHubx-NirAK",
        "outputId": "46b31279-c0db-4640-d3a3-36e85dbc6fca"
      },
      "outputs": [
        {
          "output_type": "stream",
          "name": "stdout",
          "text": [
            " vmxibkg**gsrh**nvhhztv**fhrmt**kbgslm\n"
          ]
        }
      ],
      "source": [
        "a = \"encrypt this message using python\"\n",
        "encrypted_message=\" \"\n",
        "for i in a:\n",
        "  if i.isalpha():\n",
        "    encrypted_message+=chr(219-ord(i))\n",
        "  elif i==\" \":\n",
        "    encrypted_message+=\"**\"\n",
        "  else:\n",
        "    encrypted_message+=i\n",
        "print(encrypted_message)"
      ]
    },
    {
      "cell_type": "code",
      "source": [
        "message=\"vmxibkg*gsrh*fhrmt*kbgslm!\"\n",
        "decrypted_message=\"\"\n",
        "for i in message:\n",
        "  if i.isalpha():\n",
        "    decrypted_message+=chr(219-ord(i))\n",
        "  elif i==\" \":\n",
        "    decrypted_message+=\"**\"\n",
        "  else:\n",
        "    decrypted_message+=i\n",
        "print(decrypted_message)"
      ],
      "metadata": {
        "colab": {
          "base_uri": "https://localhost:8080/"
        },
        "id": "7C3BspYDi24a",
        "outputId": "044721da-5518-40d2-d896-a7b9209ce8df"
      },
      "execution_count": 2,
      "outputs": [
        {
          "output_type": "stream",
          "name": "stdout",
          "text": [
            "encrypt*this*using*python!\n"
          ]
        }
      ]
    },
    {
      "cell_type": "code",
      "source": [],
      "metadata": {
        "id": "MSNKgKHri7N_"
      },
      "execution_count": null,
      "outputs": []
    }
  ]
}
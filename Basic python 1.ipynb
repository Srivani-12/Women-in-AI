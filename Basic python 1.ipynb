{
  "nbformat": 4,
  "nbformat_minor": 0,
  "metadata": {
    "colab": {
      "provenance": []
    },
    "kernelspec": {
      "name": "python3",
      "display_name": "Python 3"
    },
    "language_info": {
      "name": "python"
    }
  },
  "cells": [
    {
      "cell_type": "code",
      "execution_count": null,
      "metadata": {
        "colab": {
          "base_uri": "https://localhost:8080/"
        },
        "id": "xkv0RZ2QOLId",
        "outputId": "674c106f-a51d-423b-c42b-9f323a9b20bc"
      },
      "outputs": [
        {
          "output_type": "stream",
          "name": "stdout",
          "text": [
            "0\n",
            "1\n",
            "2\n",
            "3\n",
            "4\n",
            "5\n",
            "6\n",
            "7\n",
            "8\n",
            "9\n",
            "10\n",
            "11\n",
            "12\n",
            "13\n",
            "14\n",
            "15\n",
            "16\n",
            "17\n",
            "18\n",
            "19\n",
            "20\n",
            "21\n",
            "22\n",
            "23\n",
            "24\n",
            "25\n",
            "26\n",
            "27\n",
            "28\n",
            "29\n",
            "30\n",
            "31\n",
            "32\n",
            "33\n",
            "34\n",
            "35\n",
            "36\n",
            "37\n",
            "38\n",
            "39\n",
            "40\n",
            "41\n",
            "42\n",
            "43\n",
            "44\n",
            "45\n",
            "46\n",
            "47\n",
            "48\n",
            "49\n",
            "50\n",
            "51\n",
            "52\n",
            "53\n",
            "54\n",
            "55\n",
            "56\n",
            "57\n",
            "58\n",
            "59\n",
            "60\n",
            "61\n",
            "62\n",
            "63\n",
            "64\n",
            "65\n",
            "66\n",
            "67\n",
            "68\n",
            "69\n",
            "70\n",
            "71\n",
            "72\n",
            "73\n",
            "74\n",
            "75\n",
            "76\n",
            "77\n",
            "78\n",
            "79\n",
            "80\n",
            "81\n",
            "82\n",
            "83\n",
            "84\n",
            "85\n",
            "86\n",
            "87\n",
            "88\n",
            "89\n",
            "90\n",
            "91\n",
            "92\n",
            "93\n",
            "94\n",
            "95\n",
            "96\n",
            "97\n",
            "98\n",
            "99\n"
          ]
        }
      ],
      "source": [
        "for i in range(100):\n",
        "  print(i)\n"
      ]
    },
    {
      "cell_type": "code",
      "source": [
        "for i in range(100):\n",
        "  if i%2==0:\n",
        "    print(\"even\")\n",
        "  else:\n",
        "    print(\"odd\")"
      ],
      "metadata": {
        "colab": {
          "base_uri": "https://localhost:8080/"
        },
        "id": "DhevGCRWQJIO",
        "outputId": "8ca25bbf-3eeb-45eb-a502-d719e21595fc"
      },
      "execution_count": null,
      "outputs": [
        {
          "output_type": "stream",
          "name": "stdout",
          "text": [
            "even\n",
            "odd\n",
            "even\n",
            "odd\n",
            "even\n",
            "odd\n",
            "even\n",
            "odd\n",
            "even\n",
            "odd\n",
            "even\n",
            "odd\n",
            "even\n",
            "odd\n",
            "even\n",
            "odd\n",
            "even\n",
            "odd\n",
            "even\n",
            "odd\n",
            "even\n",
            "odd\n",
            "even\n",
            "odd\n",
            "even\n",
            "odd\n",
            "even\n",
            "odd\n",
            "even\n",
            "odd\n",
            "even\n",
            "odd\n",
            "even\n",
            "odd\n",
            "even\n",
            "odd\n",
            "even\n",
            "odd\n",
            "even\n",
            "odd\n",
            "even\n",
            "odd\n",
            "even\n",
            "odd\n",
            "even\n",
            "odd\n",
            "even\n",
            "odd\n",
            "even\n",
            "odd\n",
            "even\n",
            "odd\n",
            "even\n",
            "odd\n",
            "even\n",
            "odd\n",
            "even\n",
            "odd\n",
            "even\n",
            "odd\n",
            "even\n",
            "odd\n",
            "even\n",
            "odd\n",
            "even\n",
            "odd\n",
            "even\n",
            "odd\n",
            "even\n",
            "odd\n",
            "even\n",
            "odd\n",
            "even\n",
            "odd\n",
            "even\n",
            "odd\n",
            "even\n",
            "odd\n",
            "even\n",
            "odd\n",
            "even\n",
            "odd\n",
            "even\n",
            "odd\n",
            "even\n",
            "odd\n",
            "even\n",
            "odd\n",
            "even\n",
            "odd\n",
            "even\n",
            "odd\n",
            "even\n",
            "odd\n",
            "even\n",
            "odd\n",
            "even\n",
            "odd\n",
            "even\n",
            "odd\n"
          ]
        }
      ]
    },
    {
      "cell_type": "markdown",
      "source": [
        "Basic python programs using loops"
      ],
      "metadata": {
        "id": "uQLEIa23FtD9"
      }
    },
    {
      "cell_type": "code",
      "source": [
        "i=0\n",
        "while (i<=100):\n",
        "  if(i%2==0):\n",
        "    print(\"even\")\n",
        "  else:\n",
        "    print(\"odd\")\n",
        "  i=i+1"
      ],
      "metadata": {
        "colab": {
          "base_uri": "https://localhost:8080/"
        },
        "id": "Hvqzmo4aQ3U0",
        "outputId": "8c622a7d-e9a5-4f65-bb23-aed06acae1c2"
      },
      "execution_count": null,
      "outputs": [
        {
          "output_type": "stream",
          "name": "stdout",
          "text": [
            "even\n",
            "odd\n",
            "even\n",
            "odd\n",
            "even\n",
            "odd\n",
            "even\n",
            "odd\n",
            "even\n",
            "odd\n",
            "even\n",
            "odd\n",
            "even\n",
            "odd\n",
            "even\n",
            "odd\n",
            "even\n",
            "odd\n",
            "even\n",
            "odd\n",
            "even\n",
            "odd\n",
            "even\n",
            "odd\n",
            "even\n",
            "odd\n",
            "even\n",
            "odd\n",
            "even\n",
            "odd\n",
            "even\n",
            "odd\n",
            "even\n",
            "odd\n",
            "even\n",
            "odd\n",
            "even\n",
            "odd\n",
            "even\n",
            "odd\n",
            "even\n",
            "odd\n",
            "even\n",
            "odd\n",
            "even\n",
            "odd\n",
            "even\n",
            "odd\n",
            "even\n",
            "odd\n",
            "even\n",
            "odd\n",
            "even\n",
            "odd\n",
            "even\n",
            "odd\n",
            "even\n",
            "odd\n",
            "even\n",
            "odd\n",
            "even\n",
            "odd\n",
            "even\n",
            "odd\n",
            "even\n",
            "odd\n",
            "even\n",
            "odd\n",
            "even\n",
            "odd\n",
            "even\n",
            "odd\n",
            "even\n",
            "odd\n",
            "even\n",
            "odd\n",
            "even\n",
            "odd\n",
            "even\n",
            "odd\n",
            "even\n",
            "odd\n",
            "even\n",
            "odd\n",
            "even\n",
            "odd\n",
            "even\n",
            "odd\n",
            "even\n",
            "odd\n",
            "even\n",
            "odd\n",
            "even\n",
            "odd\n",
            "even\n",
            "odd\n",
            "even\n",
            "odd\n",
            "even\n",
            "odd\n",
            "even\n"
          ]
        }
      ]
    },
    {
      "cell_type": "code",
      "source": [
        "x=\"tmv\"\n",
        "print(type(x))"
      ],
      "metadata": {
        "colab": {
          "base_uri": "https://localhost:8080/"
        },
        "id": "S2GYCkosSOEn",
        "outputId": "0d079c01-5703-4b1f-87ae-ceb617473a63"
      },
      "execution_count": null,
      "outputs": [
        {
          "output_type": "stream",
          "name": "stdout",
          "text": [
            "<class 'str'>\n"
          ]
        }
      ]
    },
    {
      "cell_type": "markdown",
      "source": [],
      "metadata": {
        "id": "AUI7osyhFnmm"
      }
    },
    {
      "cell_type": "code",
      "source": [
        "x=12.5\n",
        "print(type(x))"
      ],
      "metadata": {
        "colab": {
          "base_uri": "https://localhost:8080/"
        },
        "id": "sh9TkRLGSYOl",
        "outputId": "525ed5d2-3d11-4997-fa01-0a9cab21034e"
      },
      "execution_count": null,
      "outputs": [
        {
          "output_type": "stream",
          "name": "stdout",
          "text": [
            "<class 'float'>\n"
          ]
        }
      ]
    },
    {
      "cell_type": "markdown",
      "source": [
        "Lists"
      ],
      "metadata": {
        "id": "dcfRlJJbGEkK"
      }
    },
    {
      "cell_type": "code",
      "source": [
        "list=[10,20,30]\n",
        "type(list)"
      ],
      "metadata": {
        "colab": {
          "base_uri": "https://localhost:8080/"
        },
        "id": "_0XhGyOPTDN7",
        "outputId": "e157018f-6416-4d3c-f8d9-1c1367baaa1c"
      },
      "execution_count": null,
      "outputs": [
        {
          "output_type": "execute_result",
          "data": {
            "text/plain": [
              "list"
            ]
          },
          "metadata": {},
          "execution_count": 8
        }
      ]
    },
    {
      "cell_type": "code",
      "source": [
        "list2=[10,\"read\",56,4.45,\"IOT\",45.6]\n",
        "strlist=[]\n",
        "intlist=[]\n",
        "floatlist=[]\n",
        "\n",
        "for i in list2:\n",
        "  if type(i)==str:\n",
        "    strlist.append(i)\n",
        "  elif type(i)==int:\n",
        "    intlist.append(i)\n",
        "  else:\n",
        "    floatlist.append(i)\n",
        "print(\"strlist=\",strlist,\"\\nintlist=\",intlist,\"\\n\",\"floatlist=\",floatlist)\n"
      ],
      "metadata": {
        "colab": {
          "base_uri": "https://localhost:8080/"
        },
        "id": "gefcejnNTKrz",
        "outputId": "2759d518-3fdd-4bb8-a50c-c81326245ca7"
      },
      "execution_count": null,
      "outputs": [
        {
          "output_type": "stream",
          "name": "stdout",
          "text": [
            "strlist= ['read', 'IOT'] \n",
            "intlist= [10, 56] \n",
            " floatlist= [4.45, 45.6]\n"
          ]
        }
      ]
    },
    {
      "cell_type": "code",
      "source": [
        "intlist=[i for i in list2 if type(i)==int]\n",
        "strlist=[i for i in list2 if type(i)==str]\n",
        "floatlist=[i for i in list2 if type(i)==float]\n",
        "print(\"strlist=\",strlist,\"\\nintlist=\",intlist,\"\\n\",\"floatlist=\",floatlist)\n"
      ],
      "metadata": {
        "colab": {
          "base_uri": "https://localhost:8080/"
        },
        "id": "NMmd-0XdWsIW",
        "outputId": "e9eeb281-0e1e-47c7-acf0-09e1c72556cf"
      },
      "execution_count": null,
      "outputs": [
        {
          "output_type": "stream",
          "name": "stdout",
          "text": [
            "strlist= ['read', 'IOT'] \n",
            "intlist= [10, 56] \n",
            " floatlist= [4.45, 45.6]\n"
          ]
        }
      ]
    },
    {
      "cell_type": "code",
      "source": [
        "list2[0:]"
      ],
      "metadata": {
        "colab": {
          "base_uri": "https://localhost:8080/"
        },
        "id": "q2t9il7WXMiP",
        "outputId": "5e820433-98ca-467c-e4a4-704cd279bb2f"
      },
      "execution_count": null,
      "outputs": [
        {
          "output_type": "execute_result",
          "data": {
            "text/plain": [
              "[10, 'read', 56, 4.45, 'IOT', 45.6]"
            ]
          },
          "metadata": {},
          "execution_count": 22
        }
      ]
    },
    {
      "cell_type": "code",
      "source": [
        "list2[1][1]"
      ],
      "metadata": {
        "colab": {
          "base_uri": "https://localhost:8080/",
          "height": 36
        },
        "id": "W4TWf6urXYCa",
        "outputId": "1ba2aedb-405d-4c68-c53d-e4080e246475"
      },
      "execution_count": null,
      "outputs": [
        {
          "output_type": "execute_result",
          "data": {
            "text/plain": [
              "'e'"
            ],
            "application/vnd.google.colaboratory.intrinsic+json": {
              "type": "string"
            }
          },
          "metadata": {},
          "execution_count": 23
        }
      ]
    },
    {
      "cell_type": "code",
      "source": [
        "def add(x,y):\n",
        "  return (x+y)\n",
        "add(10,20)"
      ],
      "metadata": {
        "colab": {
          "base_uri": "https://localhost:8080/"
        },
        "id": "aQHko6rgXiTp",
        "outputId": "cedf6ae4-1a5e-49d4-f098-bcc0a7c6e9c9"
      },
      "execution_count": null,
      "outputs": [
        {
          "output_type": "execute_result",
          "data": {
            "text/plain": [
              "30"
            ]
          },
          "metadata": {},
          "execution_count": 26
        }
      ]
    },
    {
      "cell_type": "code",
      "source": [
        "add(20,30)"
      ],
      "metadata": {
        "id": "vck5Uzu7YEPM"
      },
      "execution_count": null,
      "outputs": []
    },
    {
      "cell_type": "code",
      "source": [
        "def list(list):\n",
        "  intlist=[i for i in list if type(i)==int]\n",
        "  strlist=[i for i in list if type(i)==str]\n",
        "  floatlist=[i for i in list if type(i)==float]\n",
        "  print(\"strlist=\",strlist,\"\\nintlist=\",intlist,\"\\nfloatlist=\",floatlist)\n",
        "list(list2)"
      ],
      "metadata": {
        "colab": {
          "base_uri": "https://localhost:8080/"
        },
        "id": "NAg0tNSuYEL7",
        "outputId": "bc34552f-4e05-4a69-b5db-ea28b6717464"
      },
      "execution_count": null,
      "outputs": [
        {
          "output_type": "stream",
          "name": "stdout",
          "text": [
            "strlist= ['read', 'IOT'] \n",
            "intlist= [10, 56] \n",
            "floatlist= [4.45, 45.6]\n"
          ]
        }
      ]
    },
    {
      "cell_type": "code",
      "source": [
        "l=[1,2,\"for\",12.6]\n",
        "list(l)"
      ],
      "metadata": {
        "colab": {
          "base_uri": "https://localhost:8080/"
        },
        "id": "MDB7wLbWaMUl",
        "outputId": "39fdae56-41f4-4b71-fdb7-6538ac27622f"
      },
      "execution_count": null,
      "outputs": [
        {
          "output_type": "stream",
          "name": "stdout",
          "text": [
            "strlist= ['for'] \n",
            "intlist= [1, 2] \n",
            "floatlist= [12.6]\n"
          ]
        }
      ]
    },
    {
      "cell_type": "markdown",
      "source": [
        "User-defined Functions"
      ],
      "metadata": {
        "id": "EMdpP7GAGMaM"
      }
    },
    {
      "cell_type": "code",
      "source": [
        "def recursum(n):\n",
        "  if n<=1:\n",
        "    return n\n",
        "  return n+recursum(n-1)\n",
        "n=10\n",
        "print(recursum(n))"
      ],
      "metadata": {
        "colab": {
          "base_uri": "https://localhost:8080/"
        },
        "id": "d7DhOhZ2a7VB",
        "outputId": "ebd86af2-0016-4e0e-c260-0eb58a67c1e2"
      },
      "execution_count": null,
      "outputs": [
        {
          "output_type": "stream",
          "name": "stdout",
          "text": [
            "55\n"
          ]
        }
      ]
    },
    {
      "cell_type": "code",
      "source": [
        "def recur_fib(n):\n",
        "  if n<=1:\n",
        "    return(n)\n",
        "  else:\n",
        "    return(recur_fib(n-1)+recur_fib(n-2))\n",
        "n=5\n",
        "for i in range(n):\n",
        "  print(recur_fib(i))"
      ],
      "metadata": {
        "colab": {
          "base_uri": "https://localhost:8080/"
        },
        "id": "7QlWNnX1cb53",
        "outputId": "09930257-71a7-4dc6-aea4-f1dac6e97800"
      },
      "execution_count": null,
      "outputs": [
        {
          "output_type": "stream",
          "name": "stdout",
          "text": [
            "0\n",
            "1\n",
            "1\n",
            "2\n",
            "3\n"
          ]
        }
      ]
    },
    {
      "cell_type": "code",
      "source": [
        "def recur_fact(n):\n",
        "  if n<=1:\n",
        "    return(n)\n",
        "  else:\n",
        "    return(recur_fact(n-1)*n)\n",
        "print(recur_fact(5))"
      ],
      "metadata": {
        "colab": {
          "base_uri": "https://localhost:8080/"
        },
        "id": "yyMvFW9Edy8H",
        "outputId": "557c8cd1-c35f-42f4-af88-44986e14002d"
      },
      "execution_count": null,
      "outputs": [
        {
          "output_type": "stream",
          "name": "stdout",
          "text": [
            "120\n"
          ]
        }
      ]
    },
    {
      "cell_type": "code",
      "source": [
        "def gen_num(n):\n",
        "  v=0\n",
        "  while v"
      ],
      "metadata": {
        "id": "yBzUZU3Dgl9E"
      },
      "execution_count": null,
      "outputs": []
    }
  ]
}